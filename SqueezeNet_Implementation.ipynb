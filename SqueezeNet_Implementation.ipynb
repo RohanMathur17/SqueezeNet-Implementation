{
  "nbformat": 4,
  "nbformat_minor": 0,
  "metadata": {
    "colab": {
      "name": "SqueezeNet_Implementation.ipynb",
      "provenance": [],
      "authorship_tag": "ABX9TyMJ3kuWor8kIcbmAHn+z2Ss",
      "include_colab_link": true
    },
    "kernelspec": {
      "name": "python3",
      "display_name": "Python 3"
    },
    "language_info": {
      "name": "python"
    },
    "accelerator": "GPU"
  },
  "cells": [
    {
      "cell_type": "markdown",
      "metadata": {
        "id": "view-in-github",
        "colab_type": "text"
      },
      "source": [
        "<a href=\"https://colab.research.google.com/github/RohanMathur17/SqueezeNet-Implementation/blob/main/SqueezeNet_Implementation.ipynb\" target=\"_parent\"><img src=\"https://colab.research.google.com/assets/colab-badge.svg\" alt=\"Open In Colab\"/></a>"
      ]
    },
    {
      "cell_type": "code",
      "execution_count": 1,
      "metadata": {
        "colab": {
          "base_uri": "https://localhost:8080/"
        },
        "id": "tvcGxA4c9MNk",
        "outputId": "57cb7047-2fef-44a5-8cb1-904a33fcbfcf"
      },
      "outputs": [
        {
          "output_type": "stream",
          "name": "stdout",
          "text": [
            "Found existing installation: tensorflow 2.7.0\n",
            "Uninstalling tensorflow-2.7.0:\n",
            "  Successfully uninstalled tensorflow-2.7.0\n",
            "Collecting tensorflow-gpu==1.13.1\n",
            "  Downloading tensorflow_gpu-1.13.1-cp37-cp37m-manylinux1_x86_64.whl (345.0 MB)\n",
            "\u001b[K     |████████████████████████████████| 345.0 MB 4.3 kB/s \n",
            "\u001b[?25hRequirement already satisfied: six>=1.10.0 in /usr/local/lib/python3.7/dist-packages (from tensorflow-gpu==1.13.1) (1.15.0)\n",
            "Requirement already satisfied: absl-py>=0.1.6 in /usr/local/lib/python3.7/dist-packages (from tensorflow-gpu==1.13.1) (1.0.0)\n",
            "Requirement already satisfied: wheel>=0.26 in /usr/local/lib/python3.7/dist-packages (from tensorflow-gpu==1.13.1) (0.37.1)\n",
            "Requirement already satisfied: gast>=0.2.0 in /usr/local/lib/python3.7/dist-packages (from tensorflow-gpu==1.13.1) (0.4.0)\n",
            "Requirement already satisfied: numpy>=1.13.3 in /usr/local/lib/python3.7/dist-packages (from tensorflow-gpu==1.13.1) (1.19.5)\n",
            "Requirement already satisfied: termcolor>=1.1.0 in /usr/local/lib/python3.7/dist-packages (from tensorflow-gpu==1.13.1) (1.1.0)\n",
            "Collecting tensorflow-estimator<1.14.0rc0,>=1.13.0\n",
            "  Downloading tensorflow_estimator-1.13.0-py2.py3-none-any.whl (367 kB)\n",
            "\u001b[K     |████████████████████████████████| 367 kB 49.0 MB/s \n",
            "\u001b[?25hCollecting tensorboard<1.14.0,>=1.13.0\n",
            "  Downloading tensorboard-1.13.1-py3-none-any.whl (3.2 MB)\n",
            "\u001b[K     |████████████████████████████████| 3.2 MB 36.7 MB/s \n",
            "\u001b[?25hRequirement already satisfied: protobuf>=3.6.1 in /usr/local/lib/python3.7/dist-packages (from tensorflow-gpu==1.13.1) (3.17.3)\n",
            "Requirement already satisfied: keras-preprocessing>=1.0.5 in /usr/local/lib/python3.7/dist-packages (from tensorflow-gpu==1.13.1) (1.1.2)\n",
            "Collecting keras-applications>=1.0.6\n",
            "  Downloading Keras_Applications-1.0.8-py3-none-any.whl (50 kB)\n",
            "\u001b[K     |████████████████████████████████| 50 kB 7.1 MB/s \n",
            "\u001b[?25hRequirement already satisfied: grpcio>=1.8.6 in /usr/local/lib/python3.7/dist-packages (from tensorflow-gpu==1.13.1) (1.43.0)\n",
            "Requirement already satisfied: astor>=0.6.0 in /usr/local/lib/python3.7/dist-packages (from tensorflow-gpu==1.13.1) (0.8.1)\n",
            "Requirement already satisfied: h5py in /usr/local/lib/python3.7/dist-packages (from keras-applications>=1.0.6->tensorflow-gpu==1.13.1) (3.1.0)\n",
            "Requirement already satisfied: werkzeug>=0.11.15 in /usr/local/lib/python3.7/dist-packages (from tensorboard<1.14.0,>=1.13.0->tensorflow-gpu==1.13.1) (1.0.1)\n",
            "Requirement already satisfied: markdown>=2.6.8 in /usr/local/lib/python3.7/dist-packages (from tensorboard<1.14.0,>=1.13.0->tensorflow-gpu==1.13.1) (3.3.6)\n",
            "Requirement already satisfied: importlib-metadata>=4.4 in /usr/local/lib/python3.7/dist-packages (from markdown>=2.6.8->tensorboard<1.14.0,>=1.13.0->tensorflow-gpu==1.13.1) (4.10.1)\n",
            "Requirement already satisfied: zipp>=0.5 in /usr/local/lib/python3.7/dist-packages (from importlib-metadata>=4.4->markdown>=2.6.8->tensorboard<1.14.0,>=1.13.0->tensorflow-gpu==1.13.1) (3.7.0)\n",
            "Requirement already satisfied: typing-extensions>=3.6.4 in /usr/local/lib/python3.7/dist-packages (from importlib-metadata>=4.4->markdown>=2.6.8->tensorboard<1.14.0,>=1.13.0->tensorflow-gpu==1.13.1) (3.10.0.2)\n",
            "Collecting mock>=2.0.0\n",
            "  Downloading mock-4.0.3-py3-none-any.whl (28 kB)\n",
            "Requirement already satisfied: cached-property in /usr/local/lib/python3.7/dist-packages (from h5py->keras-applications>=1.0.6->tensorflow-gpu==1.13.1) (1.5.2)\n",
            "Installing collected packages: mock, tensorflow-estimator, tensorboard, keras-applications, tensorflow-gpu\n",
            "  Attempting uninstall: tensorflow-estimator\n",
            "    Found existing installation: tensorflow-estimator 2.7.0\n",
            "    Uninstalling tensorflow-estimator-2.7.0:\n",
            "      Successfully uninstalled tensorflow-estimator-2.7.0\n",
            "  Attempting uninstall: tensorboard\n",
            "    Found existing installation: tensorboard 2.7.0\n",
            "    Uninstalling tensorboard-2.7.0:\n",
            "      Successfully uninstalled tensorboard-2.7.0\n",
            "Successfully installed keras-applications-1.0.8 mock-4.0.3 tensorboard-1.13.1 tensorflow-estimator-1.13.0 tensorflow-gpu-1.13.1\n"
          ]
        }
      ],
      "source": [
        "!pip uninstall -y tensorflow\n",
        "!pip install tensorflow-gpu==1.13.1"
      ]
    },
    {
      "cell_type": "code",
      "source": [
        "from __future__ import absolute_import\n",
        "from __future__ import division\n",
        "from __future__ import print_function\n",
        "\n",
        "import tensorflow as tf\n",
        "import matplotlib\n",
        "import matplotlib.pyplot as plt\n",
        "import numpy as np\n",
        "from tensorflow.keras.layers import ReLU\n",
        "from sklearn.model_selection import train_test_split\n",
        "\n",
        "datasets = tf.contrib.keras.datasets\n",
        "layers =  tf.contrib.keras.layers\n",
        "models = tf.contrib.keras.models\n",
        "losses = tf.contrib.keras.losses\n",
        "optimizers = tf.contrib.keras.optimizers \n",
        "metrics = tf.contrib.keras.metrics\n",
        "preprocessing_image = tf.contrib.keras.preprocessing.image\n",
        "utils = tf.contrib.keras.utils\n",
        "callbacks = tf.contrib.keras.callbacks"
      ],
      "metadata": {
        "colab": {
          "base_uri": "https://localhost:8080/"
        },
        "id": "YQ9OTyLk9u1_",
        "outputId": "ff93d3b6-1c58-43dd-8a01-74c4552c4b0d"
      },
      "execution_count": 2,
      "outputs": [
        {
          "output_type": "stream",
          "name": "stdout",
          "text": [
            "\n",
            "WARNING: The TensorFlow contrib module will not be included in TensorFlow 2.0.\n",
            "For more information, please see:\n",
            "  * https://github.com/tensorflow/community/blob/master/rfcs/20180907-contrib-sunset.md\n",
            "  * https://github.com/tensorflow/addons\n",
            "If you depend on functionality not listed there, please file an issue.\n",
            "\n"
          ]
        }
      ]
    },
    {
      "cell_type": "code",
      "source": [
        "## Model Architecture of SqueezeNet\n",
        "#import tensorflow as tf\n",
        "from tensorflow.keras.models import Model\n",
        "from tensorflow.keras.layers import Input, Activation, ReLU\n",
        "from tensorflow.keras.layers import Flatten, Dropout\n",
        "from tensorflow.keras.layers import Conv2D, MaxPool2D\n",
        "from tensorflow.keras.layers import AvgPool2D\n",
        "from tensorflow.keras.layers import concatenate\n",
        "\n",
        "# Fire Module\n",
        "def fire_module(x,s1,e1,e3):\n",
        "\n",
        "    #x --> layer\n",
        "    #s1 --> squeeze dimension\n",
        "    #e1 --> expanding for 1x1 layer\n",
        "    #e3 --> expanding for 3x3 layers\n",
        "\n",
        "    # Squeezing Layer\n",
        "    s1x = Conv2D(s1,kernel_size = 1, padding='same')(x)\n",
        "    s1x = ReLU()(s1x)\n",
        "\n",
        "    #1x1 expand Layer\n",
        "    e1x = Conv2D(e1,kernel_size = 1, padding='same')(s1x)\n",
        "\n",
        "    #3x3 expand Layer\n",
        "    e3x = Conv2D(e3,kernel_size = 3, padding='same')(s1x)\n",
        "\n",
        "    #Combining and Passing through ReLU Layer\n",
        "    x = concatenate([e1x,e3x])\n",
        "    x = ReLU()(x)\n",
        "\n",
        "    return x\n",
        "\n",
        "'''\n",
        "SqueezeNet begins with a standalone convolution layer (conv1), \n",
        "followed by 8 Fire modules (fire1–8), ending with a final conv layer (conv10).\n",
        "The number of filters per fire module is gradually increased from the beginning to the end of the network.\n",
        "Max-pooling with a stride of 2 is performed after layers conv1, fire4, fire8, and conv10.\n",
        "Dropout with ratio of 50% is applied after the fire9 module.\n",
        "\n",
        "'''\n",
        "# SqueezeNet Layer\n",
        "def SqueezeNet(input_shape, nclasses):\n",
        "\n",
        "    input = Input(input_shape)\n",
        "\n",
        "    # 1st Convolution\n",
        "    x = Conv2D(96,kernel_size = (7,7), \n",
        "                strides = (2,2),padding='same',input_shape = input_shape)(input)\n",
        "\n",
        "    # 1st MaxPooling\n",
        "    x = MaxPool2D((3,3),strides = (2,2),padding='same')(x)\n",
        "\n",
        "    # FireModule1\n",
        "    x = fire_module(x,s1 =16,e1=64,e3 = 64)\n",
        "\n",
        "    # FireModule2\n",
        "    x = fire_module(x,s1 =16,e1=64,e3 = 64)\n",
        "\n",
        "    # FireModule3\n",
        "    x = fire_module(x,s1=32,e1=128,e3=128)\n",
        "\n",
        "    # 2nd MaxPooling\n",
        "    x = MaxPool2D((3,3),strides = (2,2),padding='same')(x)\n",
        "\n",
        "    # FireModule4\n",
        "    x = fire_module(x,s1 = 32,e1=128,e3=128)\n",
        "\n",
        "    # FireModule5\n",
        "    x = fire_module(x,s1 =48,e1=192,e3 =192)\n",
        "\n",
        "    # FireModule6\n",
        "    x = fire_module(x,s1 =48,e1=192,e3 =192)\n",
        "\n",
        "    # FireModule7\n",
        "    x = fire_module(x,s1 =64,e1=256,e3 =256)\n",
        "        \n",
        "    # 3rd MaxPooling\n",
        "    x = MaxPool2D((3,3),strides = (2,2),padding='same')(x)\n",
        "\n",
        "    # FireModule8\n",
        "    x = fire_module(x,s1=64,e1=256,e3=256)\n",
        "\n",
        "    # 2nd Convolution\n",
        "    x = Dropout(0.5)(x)\n",
        "    x = layers.Convolution2D(classes, (1, 1), padding='valid', name='conv10')(x)\n",
        "    x = layers.Activation('relu', name='relu_conv10')(x)\n",
        "    x = layers.GlobalAveragePooling2D()(x)\n",
        "    out = layers.Activation('softmax', name='loss')(x)\n",
        "    model = models.Model(input, out, name='squeezenet')\n",
        "    return model\n"
      ],
      "metadata": {
        "id": "wmY4UIvf-sWN"
      },
      "execution_count": 3,
      "outputs": []
    },
    {
      "cell_type": "code",
      "source": [
        "from google.colab import drive\n",
        "\n",
        "drive.mount('/content/gdrive')"
      ],
      "metadata": {
        "colab": {
          "base_uri": "https://localhost:8080/"
        },
        "id": "pC3vZFJdTRxT",
        "outputId": "228b1d17-8b75-4551-ab5f-97f2008c1c8f"
      },
      "execution_count": 5,
      "outputs": [
        {
          "output_type": "stream",
          "name": "stdout",
          "text": [
            "Mounted at /content/gdrive\n"
          ]
        }
      ]
    },
    {
      "cell_type": "code",
      "source": [
        "import os\n",
        "\n",
        "import cv2\n",
        "\n",
        "X = []\n",
        "y = []\n",
        "base_dir = '/content/gdrive/MyDrive/SqueezeNet/data/'\n",
        "for f in sorted(os.listdir(base_dir)):\n",
        "    if os.path.isdir(base_dir+f):\n",
        "       # print(f\"{f} is a target class\")\n",
        "        for i in sorted(os.listdir(base_dir+f)):\n",
        "           # print(f\"{i} is an input image path\")\n",
        "            X.append(base_dir+f+'/'+i)\n",
        "            y.append(f)\n",
        "\n",
        "(trainX, testX, trainY, testY) = train_test_split(X,y,\n",
        "\ttest_size=0.25,random_state=42)\n",
        "\n",
        "trainX_list = []\n",
        "for imagePath in trainX:\n",
        "    image = cv2.imread(imagePath)\n",
        "    image = cv2.cvtColor(image, cv2.COLOR_BGR2RGB)\n",
        "    image = cv2.resize(image, (224, 224))\n",
        "    trainX_list.append(image)\n",
        "\n",
        "testX_list = []\n",
        "for imagePath in testX:\n",
        "    image = cv2.imread(imagePath)\n",
        "    image = cv2.cvtColor(image, cv2.COLOR_BGR2RGB)\n",
        "    image = cv2.resize(image, (224, 224))\n",
        "    testX_list.append(image)\n",
        "\n",
        "trainY_array = np.unique(trainY, return_inverse=True)[1]\n",
        "trainY_array = trainY_array.reshape(len(trainY_array),1)\n",
        "\n",
        "testY_array = np.unique(testY, return_inverse=True)[1]\n",
        "testY_array = testY_array.reshape(len(testY_array),1)\n",
        "\n",
        "trainX_list_array = np.asarray(trainX_list)\n",
        "testX_list_array  = np.asarray(testX_list)\n",
        "\n",
        "#(x_train, y_train), (x_test, y_test)= datasets.cifar10.load_data()\n",
        "\n",
        "train_datagen = preprocessing_image.ImageDataGenerator(\n",
        "    rescale=1./255,\n",
        "    shear_range=0.1,\n",
        "    zoom_range=0.1,\n",
        "    horizontal_flip=True)\n",
        "\n",
        "test_datagen = preprocessing_image.ImageDataGenerator(rescale=1./255)\n",
        "\n",
        "\n",
        "trainY_array = utils.to_categorical(trainY_array, num_classes=5)\n",
        "testY_array = utils.to_categorical(testY_array, num_classes=5)\n",
        "\n",
        "train_generator = train_datagen.flow(x=trainX_list_array, y=trainY_array, batch_size=32, shuffle=True)\n",
        "\n",
        "test_generator = test_datagen.flow(x=testX_list_array, y=testY_array, batch_size=32, shuffle=True)"
      ],
      "metadata": {
        "id": "mHEhdS0C-iR6"
      },
      "execution_count": 6,
      "outputs": []
    },
    {
      "cell_type": "code",
      "source": [
        "def compile_model(model):\n",
        "\n",
        "    # loss\n",
        "    loss = losses.categorical_crossentropy\n",
        "\n",
        "    # optimizer\n",
        "    optimizer = optimizers.RMSprop(lr=0.0001)\n",
        "\n",
        "    # metrics\n",
        "    metric = [metrics.categorical_accuracy, metrics.top_k_categorical_accuracy]\n",
        "\n",
        "    # compile model with loss, optimizer, and evaluation metrics\n",
        "    model.compile(optimizer, loss, metric)\n",
        "\n",
        "    return model"
      ],
      "metadata": {
        "id": "zy7Pls-4CLea"
      },
      "execution_count": 7,
      "outputs": []
    },
    {
      "cell_type": "code",
      "source": [
        "input_shape = (224,224,3)\n",
        "classes = 5\n",
        "sn = SqueezeNet(input_shape = input_shape,\n",
        "\t\t\t\t\t  nclasses = classes)\n",
        "sn = compile_model(sn)"
      ],
      "metadata": {
        "colab": {
          "base_uri": "https://localhost:8080/"
        },
        "id": "zd_Z9DRSCN9U",
        "outputId": "62342bcd-9360-490d-e177-17a90a35b667"
      },
      "execution_count": 8,
      "outputs": [
        {
          "output_type": "stream",
          "name": "stdout",
          "text": [
            "WARNING:tensorflow:From /usr/local/lib/python3.7/dist-packages/tensorflow/python/ops/resource_variable_ops.py:435: colocate_with (from tensorflow.python.framework.ops) is deprecated and will be removed in a future version.\n",
            "Instructions for updating:\n",
            "Colocations handled automatically by placer.\n",
            "WARNING:tensorflow:From /usr/local/lib/python3.7/dist-packages/tensorflow/python/keras/layers/core.py:143: calling dropout (from tensorflow.python.ops.nn_ops) with keep_prob is deprecated and will be removed in a future version.\n",
            "Instructions for updating:\n",
            "Please use `rate` instead of `keep_prob`. Rate should be set to `rate = 1 - keep_prob`.\n"
          ]
        }
      ]
    },
    {
      "cell_type": "code",
      "source": [
        "history = sn.fit_generator(\n",
        "    train_generator,\n",
        "    steps_per_epoch=400,\n",
        "    epochs=10,\n",
        "    validation_data=test_generator,\n",
        "    validation_steps=200)"
      ],
      "metadata": {
        "colab": {
          "base_uri": "https://localhost:8080/"
        },
        "id": "mewRSk5sCah4",
        "outputId": "bcc217f3-7aab-4483-cbf9-cca3de1def58"
      },
      "execution_count": 10,
      "outputs": [
        {
          "output_type": "stream",
          "name": "stdout",
          "text": [
            "Epoch 1/10\n",
            "2/2 [==============================] - 0s 69ms/step - loss: 1.6091 - categorical_accuracy: 0.2308 - top_k_categorical_accuracy: 1.0000\n",
            "4/4 [==============================] - 2s 487ms/step - loss: 1.6094 - categorical_accuracy: 0.2393 - top_k_categorical_accuracy: 1.0000 - val_loss: 1.6091 - val_categorical_accuracy: 0.2308 - val_top_k_categorical_accuracy: 1.0000\n",
            "Epoch 2/10\n",
            "2/2 [==============================] - 0s 65ms/step - loss: 1.6090 - categorical_accuracy: 0.2308 - top_k_categorical_accuracy: 1.0000\n",
            "4/4 [==============================] - 2s 399ms/step - loss: 1.6094 - categorical_accuracy: 0.2393 - top_k_categorical_accuracy: 1.0000 - val_loss: 1.6090 - val_categorical_accuracy: 0.2308 - val_top_k_categorical_accuracy: 1.0000\n",
            "Epoch 3/10\n",
            "2/2 [==============================] - 0s 68ms/step - loss: 1.6085 - categorical_accuracy: 0.2308 - top_k_categorical_accuracy: 1.0000\n",
            "4/4 [==============================] - 2s 395ms/step - loss: 1.6090 - categorical_accuracy: 0.2393 - top_k_categorical_accuracy: 1.0000 - val_loss: 1.6085 - val_categorical_accuracy: 0.2308 - val_top_k_categorical_accuracy: 1.0000\n",
            "Epoch 4/10\n",
            "2/2 [==============================] - 0s 64ms/step - loss: 1.6069 - categorical_accuracy: 0.2308 - top_k_categorical_accuracy: 1.0000\n",
            "4/4 [==============================] - 2s 401ms/step - loss: 1.6087 - categorical_accuracy: 0.2393 - top_k_categorical_accuracy: 1.0000 - val_loss: 1.6069 - val_categorical_accuracy: 0.2308 - val_top_k_categorical_accuracy: 1.0000\n",
            "Epoch 5/10\n",
            "2/2 [==============================] - 0s 64ms/step - loss: 1.6021 - categorical_accuracy: 0.2308 - top_k_categorical_accuracy: 1.0000\n",
            "4/4 [==============================] - 2s 397ms/step - loss: 1.6066 - categorical_accuracy: 0.2393 - top_k_categorical_accuracy: 1.0000 - val_loss: 1.6021 - val_categorical_accuracy: 0.2308 - val_top_k_categorical_accuracy: 1.0000\n",
            "Epoch 6/10\n",
            "2/2 [==============================] - 0s 76ms/step - loss: 1.5907 - categorical_accuracy: 0.2821 - top_k_categorical_accuracy: 1.0000\n",
            "4/4 [==============================] - 2s 398ms/step - loss: 1.6018 - categorical_accuracy: 0.2735 - top_k_categorical_accuracy: 1.0000 - val_loss: 1.5907 - val_categorical_accuracy: 0.2821 - val_top_k_categorical_accuracy: 1.0000\n",
            "Epoch 7/10\n",
            "2/2 [==============================] - 0s 69ms/step - loss: 1.5761 - categorical_accuracy: 0.2308 - top_k_categorical_accuracy: 1.0000\n",
            "4/4 [==============================] - 2s 407ms/step - loss: 1.5887 - categorical_accuracy: 0.3419 - top_k_categorical_accuracy: 1.0000 - val_loss: 1.5761 - val_categorical_accuracy: 0.2308 - val_top_k_categorical_accuracy: 1.0000\n",
            "Epoch 8/10\n",
            "2/2 [==============================] - 0s 63ms/step - loss: 1.5350 - categorical_accuracy: 0.2564 - top_k_categorical_accuracy: 1.0000\n",
            "4/4 [==============================] - 2s 392ms/step - loss: 1.5633 - categorical_accuracy: 0.3419 - top_k_categorical_accuracy: 1.0000 - val_loss: 1.5350 - val_categorical_accuracy: 0.2564 - val_top_k_categorical_accuracy: 1.0000\n",
            "Epoch 9/10\n",
            "2/2 [==============================] - 0s 66ms/step - loss: 1.5844 - categorical_accuracy: 0.2564 - top_k_categorical_accuracy: 1.0000\n",
            "4/4 [==============================] - 2s 396ms/step - loss: 1.5202 - categorical_accuracy: 0.3675 - top_k_categorical_accuracy: 1.0000 - val_loss: 1.5844 - val_categorical_accuracy: 0.2564 - val_top_k_categorical_accuracy: 1.0000\n",
            "Epoch 10/10\n",
            "2/2 [==============================] - 0s 61ms/step - loss: 1.3488 - categorical_accuracy: 0.4359 - top_k_categorical_accuracy: 1.0000\n",
            "4/4 [==============================] - 2s 391ms/step - loss: 1.4729 - categorical_accuracy: 0.3761 - top_k_categorical_accuracy: 1.0000 - val_loss: 1.3488 - val_categorical_accuracy: 0.4359 - val_top_k_categorical_accuracy: 1.0000\n"
          ]
        }
      ]
    },
    {
      "cell_type": "code",
      "source": [
        "def plot_accuracy_and_loss(history):\n",
        "    plt.figure(1, figsize= (15, 10))\n",
        "\n",
        "    # plot train and test accuracy\n",
        "    plt.subplot(221)\n",
        "    plt.plot(history.history['categorical_accuracy'])\n",
        "    plt.plot(history.history['val_categorical_accuracy'])\n",
        "    plt.title('SqueezeNet accuracy')\n",
        "    plt.ylabel('accuracy')\n",
        "    plt.xlabel('epoch')\n",
        "    plt.legend(['train', 'test'], loc='upper left')\n",
        "\n",
        "    # plot train and test loss\n",
        "    plt.subplot(222)\n",
        "    plt.plot(history.history['loss'])\n",
        "    plt.plot(history.history['val_loss'])\n",
        "    plt.title('SqueezeNet loss')\n",
        "    plt.ylabel('loss')\n",
        "    plt.xlabel('epoch')\n",
        "    plt.legend(['train', 'test'], loc='upper right')\n",
        "\n",
        "    plt.show()\n",
        "    \n",
        "plot_accuracy_and_loss(history)"
      ],
      "metadata": {
        "colab": {
          "base_uri": "https://localhost:8080/",
          "height": 325
        },
        "id": "i4HNDPaPCdMs",
        "outputId": "58907cb3-413c-4cd3-e77a-7bb7548004df"
      },
      "execution_count": 11,
      "outputs": [
        {
          "output_type": "display_data",
          "data": {
            "image/png": "[encoded data removed]",
            "text/plain": [
              "<Figure size 1080x720 with 2 Axes>"
            ]
          },
          "metadata": {
            "needs_background": "light"
          }
        }
      ]
    },
    {
      "cell_type": "code",
      "source": [
        ""
      ],
      "metadata": {
        "id": "B0Lmo7eDWPCc"
      },
      "execution_count": null,
      "outputs": []
    }
  ]
}